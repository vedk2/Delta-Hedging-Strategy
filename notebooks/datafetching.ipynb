{
  "nbformat": 4,
  "nbformat_minor": 0,
  "metadata": {
    "colab": {
      "provenance": []
    },
    "kernelspec": {
      "name": "python3",
      "display_name": "Python 3"
    },
    "language_info": {
      "name": "python"
    }
  },
  "cells": [
    {
      "cell_type": "code",
      "source": [
        "import pandas as pd\n",
        "import yfinance as yf\n",
        "\n",
        "# Example ticker and dates\n",
        "ticker = \"AAPL\"  # Example ticker\n",
        "start_date = \"2023-01-01\"\n",
        "end_date = \"2024-01-01\"\n",
        "expiration_date = \"2024-08-02\"  # Using one of the available expiration dates\n",
        "\n",
        "# Fetch the stock and options data\n",
        "stock_data = yf.Ticker(ticker).history(start=start_date, end=end_date)\n",
        "options_data = yf.Ticker(ticker).option_chain(expiration_date)\n",
        "atm_options = options_data.calls\n",
        "put_options = options_data.puts\n",
        "\n",
        "# Save data to CSV files\n",
        "stock_data.to_csv('stock_data.csv')\n",
        "atm_options.to_csv('atm_options.csv')\n",
        "put_options.to_csv('put_options.csv')\n",
        "\n",
        "print(\"CSV files have been created successfully.\")"
      ],
      "metadata": {
        "colab": {
          "base_uri": "https://localhost:8080/"
        },
        "id": "lxXvMAxuw04k",
        "outputId": "c386ed88-a337-44a5-df1a-98bcaf282d15"
      },
      "execution_count": 190,
      "outputs": [
        {
          "output_type": "stream",
          "name": "stdout",
          "text": [
            "CSV files have been created successfully.\n"
          ]
        }
      ]
    },
    {
      "cell_type": "code",
      "source": [
        "import shutil\n",
        "\n",
        "# Create a zip file\n",
        "shutil.make_archive('stock_data_files', 'zip', '.', '.', 'stock_data.csv')\n",
        "shutil.make_archive('stock_data_files', 'zip', '.', '.', 'atm_options.csv')\n",
        "shutil.make_archive('stock_data_files', 'zip', '.', '.', 'put_options.csv')"
      ],
      "metadata": {
        "colab": {
          "base_uri": "https://localhost:8080/",
          "height": 35
        },
        "id": "K1yDUWxExDIw",
        "outputId": "05055907-f9d4-4056-f2c6-bc68f0fc2ba6"
      },
      "execution_count": 191,
      "outputs": [
        {
          "output_type": "execute_result",
          "data": {
            "text/plain": [
              "'/content/stock_data_files.zip'"
            ],
            "application/vnd.google.colaboratory.intrinsic+json": {
              "type": "string"
            }
          },
          "metadata": {},
          "execution_count": 191
        }
      ]
    },
    {
      "cell_type": "code",
      "source": [
        "from google.colab import files\n",
        "\n",
        "# Download the zip file\n",
        "files.download('stock_data_files.zip')"
      ],
      "metadata": {
        "colab": {
          "base_uri": "https://localhost:8080/",
          "height": 17
        },
        "id": "XMfX9D4ZxIaf",
        "outputId": "c5f02b7b-dc48-4551-b466-502a2a60f7a3"
      },
      "execution_count": 192,
      "outputs": [
        {
          "output_type": "display_data",
          "data": {
            "text/plain": [
              "<IPython.core.display.Javascript object>"
            ],
            "application/javascript": [
              "\n",
              "    async function download(id, filename, size) {\n",
              "      if (!google.colab.kernel.accessAllowed) {\n",
              "        return;\n",
              "      }\n",
              "      const div = document.createElement('div');\n",
              "      const label = document.createElement('label');\n",
              "      label.textContent = `Downloading \"${filename}\": `;\n",
              "      div.appendChild(label);\n",
              "      const progress = document.createElement('progress');\n",
              "      progress.max = size;\n",
              "      div.appendChild(progress);\n",
              "      document.body.appendChild(div);\n",
              "\n",
              "      const buffers = [];\n",
              "      let downloaded = 0;\n",
              "\n",
              "      const channel = await google.colab.kernel.comms.open(id);\n",
              "      // Send a message to notify the kernel that we're ready.\n",
              "      channel.send({})\n",
              "\n",
              "      for await (const message of channel.messages) {\n",
              "        // Send a message to notify the kernel that we're ready.\n",
              "        channel.send({})\n",
              "        if (message.buffers) {\n",
              "          for (const buffer of message.buffers) {\n",
              "            buffers.push(buffer);\n",
              "            downloaded += buffer.byteLength;\n",
              "            progress.value = downloaded;\n",
              "          }\n",
              "        }\n",
              "      }\n",
              "      const blob = new Blob(buffers, {type: 'application/binary'});\n",
              "      const a = document.createElement('a');\n",
              "      a.href = window.URL.createObjectURL(blob);\n",
              "      a.download = filename;\n",
              "      div.appendChild(a);\n",
              "      a.click();\n",
              "      div.remove();\n",
              "    }\n",
              "  "
            ]
          },
          "metadata": {}
        },
        {
          "output_type": "display_data",
          "data": {
            "text/plain": [
              "<IPython.core.display.Javascript object>"
            ],
            "application/javascript": [
              "download(\"download_38788a75-3634-4a1a-b608-4185f1dfbde4\", \"stock_data_files.zip\", 7091085)"
            ]
          },
          "metadata": {}
        }
      ]
    }
  ]
}
